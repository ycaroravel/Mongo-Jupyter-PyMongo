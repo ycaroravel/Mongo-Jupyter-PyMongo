{
 "cells": [
  {
   "cell_type": "markdown",
   "metadata": {},
   "source": [
    "# Atualizando documentos de um banco Mongo DB com o PyMongo"
   ]
  },
  {
   "cell_type": "markdown",
   "metadata": {
    "collapsed": true
   },
   "source": [
    "O PyMongo também nos permite inserir e atualizar documentos em um banco Mongo DB."
   ]
  },
  {
   "cell_type": "code",
   "execution_count": 19,
   "metadata": {
    "collapsed": false
   },
   "outputs": [],
   "source": [
    "from pprint import pprint\n",
    "from pymongo import MongoClient\n",
    "\n",
    "client = MongoClient('localhost:27017') ## 27017 é a porta padrão para a instalação do Mongo DB\n",
    "db = client.examples"
   ]
  },
  {
   "cell_type": "markdown",
   "metadata": {},
   "source": [
    "### insert_one() e insert_many()"
   ]
  },
  {
   "cell_type": "markdown",
   "metadata": {},
   "source": [
    "O método <b>insert_one()</b> nos permite inserir um novo documento em um banco de dados. O documento é passado como parâmetro. A inserção de múltiplos documentos é feita com <b>insert_many()</b>, que recebe uma array de documentos em JSON."
   ]
  },
  {
   "cell_type": "code",
   "execution_count": 44,
   "metadata": {
    "collapsed": false
   },
   "outputs": [
    {
     "name": "stdout",
     "output_type": "stream",
     "text": [
      "{'_id': ObjectId('59ab956ce89f6f571f784127'), 'name': 'Natal'}\n"
     ]
    }
   ],
   "source": [
    "db.cities.insert_one({\"name\": \"Natal\"})\n",
    "for doc in db.cities.find():\n",
    "    pprint(doc)"
   ]
  },
  {
   "cell_type": "code",
   "execution_count": 45,
   "metadata": {
    "collapsed": false
   },
   "outputs": [
    {
     "name": "stdout",
     "output_type": "stream",
     "text": [
      "{'_id': ObjectId('59ab956ce89f6f571f784127'), 'name': 'Natal'}\n",
      "{'_id': ObjectId('59ab956de89f6f571f784128'), 'name': 'Parnamirim'}\n",
      "{'_id': ObjectId('59ab956de89f6f571f784129'), 'name': 'Mossoró'}\n"
     ]
    }
   ],
   "source": [
    "db.cities.insert_many([{\"name\": \"Parnamirim\"}, {\"name\": \"Mossoró\"}])\n",
    "for doc in db.cities.find():\n",
    "    pprint(doc)"
   ]
  },
  {
   "cell_type": "markdown",
   "metadata": {},
   "source": [
    "### replace_one()"
   ]
  },
  {
   "cell_type": "markdown",
   "metadata": {},
   "source": [
    "O método <b>replace_one()</b> nos permite substituir o conteúdo de um documento que responda a um determinada filtro.\n",
    "```\n",
    "replace_one(filtro,document_replacement)\n",
    "```"
   ]
  },
  {
   "cell_type": "code",
   "execution_count": 46,
   "metadata": {
    "collapsed": false
   },
   "outputs": [
    {
     "name": "stdout",
     "output_type": "stream",
     "text": [
      "{'_id': ObjectId('59ab956ce89f6f571f784127'), 'name': 'Natal', 'state': 'RN'}\n",
      "{'_id': ObjectId('59ab956de89f6f571f784128'), 'name': 'Parnamirim'}\n",
      "{'_id': ObjectId('59ab956de89f6f571f784129'), 'name': 'Mossoró'}\n"
     ]
    }
   ],
   "source": [
    "db.cities.replace_one({\"name\": \"Natal\"}, {\"name\": \"Natal\", \"state\":\"RN\"})\n",
    "for doc in db.cities.find():\n",
    "    pprint(doc)"
   ]
  },
  {
   "cell_type": "markdown",
   "metadata": {},
   "source": [
    "Se tivermos em mente o exato documento que desejamos substituir, podemos usar o campo \"_id\" como filtro."
   ]
  },
  {
   "cell_type": "code",
   "execution_count": 47,
   "metadata": {
    "collapsed": false
   },
   "outputs": [
    {
     "name": "stdout",
     "output_type": "stream",
     "text": [
      "{'_id': ObjectId('59ab956ce89f6f571f784127'), 'name': 'Natal', 'state': 'RN'}\n",
      "{'_id': ObjectId('59ab956de89f6f571f784128'), 'name': 'Parnamirim'}\n",
      "{'_id': ObjectId('59ab956de89f6f571f784129'), 'name': 'Mossoró'}\n"
     ]
    }
   ],
   "source": [
    "from bson.objectid import ObjectId\n",
    "\n",
    "db.cities.replace_one({\"_id\":ObjectId('59ab89dce89f6f571f784124')}, {\"name\": \"Parnamirim\", \"state\":\"RN\"})\n",
    "for doc in db.cities.find():\n",
    "    pprint(doc)"
   ]
  },
  {
   "cell_type": "markdown",
   "metadata": {},
   "source": [
    "Quando ativamos a opção <b>upsert</b>, setada como False por padrão, o comando irá inserir um novo documento caso não encontre nenhum resultado que responda ao filtro especificado."
   ]
  },
  {
   "cell_type": "code",
   "execution_count": 48,
   "metadata": {
    "collapsed": false
   },
   "outputs": [
    {
     "name": "stdout",
     "output_type": "stream",
     "text": [
      "{'_id': ObjectId('59ab956ce89f6f571f784127'), 'name': 'Natal', 'state': 'RN'}\n",
      "{'_id': ObjectId('59ab956de89f6f571f784128'), 'name': 'Parnamirim'}\n",
      "{'_id': ObjectId('59ab956de89f6f571f784129'), 'name': 'Mossoró'}\n"
     ]
    }
   ],
   "source": [
    "db.cities.replace_one({\"name\":\"Caicó\"}, {\"name\": \"Caicó\", \"state\":\"RN\"})\n",
    "for doc in db.cities.find():\n",
    "    pprint(doc)"
   ]
  },
  {
   "cell_type": "code",
   "execution_count": 49,
   "metadata": {
    "collapsed": false
   },
   "outputs": [
    {
     "name": "stdout",
     "output_type": "stream",
     "text": [
      "{'_id': ObjectId('59ab956ce89f6f571f784127'), 'name': 'Natal', 'state': 'RN'}\n",
      "{'_id': ObjectId('59ab956de89f6f571f784128'), 'name': 'Parnamirim'}\n",
      "{'_id': ObjectId('59ab956de89f6f571f784129'), 'name': 'Mossoró'}\n",
      "{'_id': ObjectId('59ab95911ae523d3f3c8c9bd'), 'name': 'Caicó', 'state': 'RN'}\n"
     ]
    }
   ],
   "source": [
    "db.cities.replace_one({\"name\":\"Caicó\"}, {\"name\": \"Caicó\", \"state\":\"RN\"}, upsert=True)\n",
    "for doc in db.cities.find():\n",
    "    pprint(doc)"
   ]
  },
  {
   "cell_type": "markdown",
   "metadata": {},
   "source": [
    "### update_one()"
   ]
  },
  {
   "cell_type": "markdown",
   "metadata": {},
   "source": [
    "<b>update_one()</b> nos permite atualizar o conteúdo de um único documento que responda a um determinad filtro. A principal diferença em relação ao replace_one() é que, quando usado em conjunto com o operador <b>\\$set</b>, o conteúdo do documento original não será completamente substituído pelo que consta no segundo parâmetro. Ao invés disso, os campos especificados serão atualizados e, caso algum deles não exista, será criado, mantendo os campos já existentes no documento original.\n",
    "\n",
    "```\n",
    "replace_one(filtro,document_update)\n",
    "```"
   ]
  },
  {
   "cell_type": "code",
   "execution_count": 52,
   "metadata": {
    "collapsed": false
   },
   "outputs": [
    {
     "name": "stdout",
     "output_type": "stream",
     "text": [
      "{'_id': ObjectId('59ab956ce89f6f571f784127'), 'name': 'Natal', 'state': 'RN'}\n",
      "{'_id': ObjectId('59ab956de89f6f571f784128'), 'name': 'Parnamirim'}\n",
      "{'_id': ObjectId('59ab956de89f6f571f784129'), 'name': 'Mossoró'}\n",
      "{'_id': ObjectId('59ab95911ae523d3f3c8c9bd'),\n",
      " 'country': 'Brasil',\n",
      " 'name': 'Caicó',\n",
      " 'state': 'Rio Grande do Norte'}\n"
     ]
    }
   ],
   "source": [
    "db.cities.update_one({\"name\":\"Caicó\"}, {\"$set\":{\"state\":\"Rio Grande do Norte\", \"country\":\"Brasil\"}})\n",
    "for doc in db.cities.find():\n",
    "    pprint(doc)"
   ]
  },
  {
   "cell_type": "markdown",
   "metadata": {},
   "source": [
    "Além do \\$set, outros operadores de atualização de campos podem ser utilizados. Uma lista com todos os operadores disponíveis pode ser encontrada [aqui](https://docs.mongodb.com/manual/reference/operator/update-field/)."
   ]
  },
  {
   "cell_type": "markdown",
   "metadata": {},
   "source": [
    "### update_many()"
   ]
  },
  {
   "cell_type": "markdown",
   "metadata": {},
   "source": [
    "<b>update_many()</b> nos permite atualizar todos os documentos que correspondam ao filtro especificado. Esse método também possui uma opção de <b>upsert</b>, desativada por padrão, que nos permite inserir um novo documento se o filtro especificado der resposta vazia."
   ]
  },
  {
   "cell_type": "code",
   "execution_count": 53,
   "metadata": {
    "collapsed": false
   },
   "outputs": [
    {
     "name": "stdout",
     "output_type": "stream",
     "text": [
      "{'_id': ObjectId('59ab956ce89f6f571f784127'),\n",
      " 'country': 'Brasil',\n",
      " 'name': 'Natal',\n",
      " 'state': 'Rio Grande do Norte'}\n",
      "{'_id': ObjectId('59ab956de89f6f571f784128'),\n",
      " 'country': 'Brasil',\n",
      " 'name': 'Parnamirim',\n",
      " 'state': 'Rio Grande do Norte'}\n",
      "{'_id': ObjectId('59ab956de89f6f571f784129'),\n",
      " 'country': 'Brasil',\n",
      " 'name': 'Mossoró',\n",
      " 'state': 'Rio Grande do Norte'}\n",
      "{'_id': ObjectId('59ab95911ae523d3f3c8c9bd'),\n",
      " 'country': 'Brasil',\n",
      " 'name': 'Caicó',\n",
      " 'state': 'Rio Grande do Norte'}\n"
     ]
    }
   ],
   "source": [
    "db.cities.update_many({\"name\":{\"$exists\":1}}, {\"$set\":{\"state\":\"Rio Grande do Norte\", \"country\":\"Brasil\"}})\n",
    "for doc in db.cities.find():\n",
    "    pprint(doc)"
   ]
  },
  {
   "cell_type": "markdown",
   "metadata": {},
   "source": [
    "update_one() e update_many() também possuem uma opção <b>upsert</b>, desativada por padrão, que, se ativada, fará com que os comandos insiram um novo documento caso o filtro especificado tenha resposta vazia."
   ]
  },
  {
   "cell_type": "markdown",
   "metadata": {},
   "source": [
    "### delete_one() e delete_many()"
   ]
  },
  {
   "cell_type": "markdown",
   "metadata": {},
   "source": [
    "O método <b>delete_one()</b> nos permite deletar o primeiro documento que corresponda ao filtro especificado. <b>delete_many()</b> irá deletar todos os documentos que correspondam ao filtro que foi passado como parâmetro."
   ]
  },
  {
   "cell_type": "code",
   "execution_count": 58,
   "metadata": {
    "collapsed": false
   },
   "outputs": [
    {
     "data": {
      "text/plain": [
       "<pymongo.results.InsertManyResult at 0x7f3485171048>"
      ]
     },
     "execution_count": 58,
     "metadata": {},
     "output_type": "execute_result"
    }
   ],
   "source": [
    "db.cities.insert_many([{\"name\": \"Macaíba\"},{\"name\":\"São Gonçalo\"},{\"name\":\"Ceará Mirim\"}])"
   ]
  },
  {
   "cell_type": "code",
   "execution_count": 59,
   "metadata": {
    "collapsed": false
   },
   "outputs": [
    {
     "name": "stdout",
     "output_type": "stream",
     "text": [
      "{'_id': ObjectId('59ab956ce89f6f571f784127'),\n",
      " 'country': 'Brasil',\n",
      " 'name': 'Natal',\n",
      " 'state': 'Rio Grande do Norte'}\n",
      "{'_id': ObjectId('59ab956de89f6f571f784128'),\n",
      " 'country': 'Brasil',\n",
      " 'name': 'Parnamirim',\n",
      " 'state': 'Rio Grande do Norte'}\n",
      "{'_id': ObjectId('59ab956de89f6f571f784129'),\n",
      " 'country': 'Brasil',\n",
      " 'name': 'Mossoró',\n",
      " 'state': 'Rio Grande do Norte'}\n",
      "{'_id': ObjectId('59ab95911ae523d3f3c8c9bd'),\n",
      " 'country': 'Brasil',\n",
      " 'name': 'Caicó',\n",
      " 'state': 'Rio Grande do Norte'}\n",
      "{'_id': ObjectId('59ab98bce89f6f571f78412b'), 'name': 'São Gonçalo'}\n",
      "{'_id': ObjectId('59ab98bce89f6f571f78412c'), 'name': 'Ceará Mirim'}\n"
     ]
    }
   ],
   "source": [
    "db.cities.delete_one({\"state\":{\"$exists\":0}})\n",
    "for doc in db.cities.find():\n",
    "    pprint(doc)"
   ]
  },
  {
   "cell_type": "code",
   "execution_count": 60,
   "metadata": {
    "collapsed": false
   },
   "outputs": [
    {
     "name": "stdout",
     "output_type": "stream",
     "text": [
      "{'_id': ObjectId('59ab956ce89f6f571f784127'),\n",
      " 'country': 'Brasil',\n",
      " 'name': 'Natal',\n",
      " 'state': 'Rio Grande do Norte'}\n",
      "{'_id': ObjectId('59ab956de89f6f571f784128'),\n",
      " 'country': 'Brasil',\n",
      " 'name': 'Parnamirim',\n",
      " 'state': 'Rio Grande do Norte'}\n",
      "{'_id': ObjectId('59ab956de89f6f571f784129'),\n",
      " 'country': 'Brasil',\n",
      " 'name': 'Mossoró',\n",
      " 'state': 'Rio Grande do Norte'}\n",
      "{'_id': ObjectId('59ab95911ae523d3f3c8c9bd'),\n",
      " 'country': 'Brasil',\n",
      " 'name': 'Caicó',\n",
      " 'state': 'Rio Grande do Norte'}\n"
     ]
    }
   ],
   "source": [
    "db.cities.delete_many({\"state\":{\"$exists\":0}})\n",
    "for doc in db.cities.find():\n",
    "    pprint(doc)"
   ]
  },
  {
   "cell_type": "markdown",
   "metadata": {},
   "source": [
    "### drop() e drop_collection"
   ]
  },
  {
   "cell_type": "markdown",
   "metadata": {},
   "source": [
    "<b>drop() e drop_collection()</b> permitem deletar uma coleção por completo."
   ]
  },
  {
   "cell_type": "code",
   "execution_count": 42,
   "metadata": {
    "collapsed": true
   },
   "outputs": [],
   "source": [
    "#db.cities.drop()\n",
    "#db.drop_collection(\"cities\")"
   ]
  },
  {
   "cell_type": "code",
   "execution_count": null,
   "metadata": {
    "collapsed": true
   },
   "outputs": [],
   "source": []
  }
 ],
 "metadata": {
  "kernelspec": {
   "display_name": "Python 3",
   "language": "python",
   "name": "python3"
  },
  "language_info": {
   "codemirror_mode": {
    "name": "ipython",
    "version": 3
   },
   "file_extension": ".py",
   "mimetype": "text/x-python",
   "name": "python",
   "nbconvert_exporter": "python",
   "pygments_lexer": "ipython3",
   "version": "3.6.0"
  }
 },
 "nbformat": 4,
 "nbformat_minor": 2
}
