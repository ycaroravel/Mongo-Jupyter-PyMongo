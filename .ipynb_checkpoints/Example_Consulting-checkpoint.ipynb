{
 "cells": [
  {
   "cell_type": "markdown",
   "metadata": {},
   "source": [
    "# Consultas a um banco Mongo DB com o PyMongo"
   ]
  },
  {
   "cell_type": "markdown",
   "metadata": {},
   "source": [
    "Utilizaremos os dados do arquivo 'twitter.json'.\n",
    "Os dados foram inseridos no Mongo DB através do shell do Mongo. Utilizou-se o seguinte comando:\n",
    "\n",
    "```shell\n",
    "mongoimport --host localhost --port 27017 --collection twitter --db examples --file twitter.json\n",
    "```\n",
    "\n",
    "O arquivo consiste numa coleção de documentos em json, cada um com informações sobre um tweet coletado através da API do twitter. "
   ]
  },
  {
   "cell_type": "code",
   "execution_count": 2,
   "metadata": {
    "collapsed": true
   },
   "outputs": [],
   "source": [
    "from pprint import pprint\n",
    "from pymongo import MongoClient\n",
    "\n",
    "client = MongoClient('localhost:27017') ## 27017 é a porta padrão para a instalação do Mongo DB\n",
    "db = client.examples"
   ]
  },
  {
   "cell_type": "markdown",
   "metadata": {},
   "source": [
    "O primeiro documento do arquivo possui a seguinte estrutura:"
   ]
  },
  {
   "cell_type": "code",
   "execution_count": 3,
   "metadata": {
    "collapsed": false,
    "scrolled": true
   },
   "outputs": [
    {
     "data": {
      "text/plain": [
       "{'_id': ObjectId('59aa384e4e9a63377035612c'),\n",
       " 'contributors': None,\n",
       " 'coordinates': None,\n",
       " 'created_at': 'Thu Sep 02 18:11:23 +0000 2010',\n",
       " 'entities': {'hashtags': [], 'urls': [], 'user_mentions': []},\n",
       " 'favorited': False,\n",
       " 'geo': None,\n",
       " 'id': 22819396900,\n",
       " 'in_reply_to_screen_name': None,\n",
       " 'in_reply_to_status_id': None,\n",
       " 'in_reply_to_user_id': None,\n",
       " 'place': None,\n",
       " 'retweet_count': None,\n",
       " 'retweeted': False,\n",
       " 'source': 'web',\n",
       " 'text': 'eu preciso de terminar de fazer a minha tabela, está muito foda **',\n",
       " 'truncated': False,\n",
       " 'user': {'contributors_enabled': False,\n",
       "  'created_at': 'Fri Jul 03 21:44:05 +0000 2009',\n",
       "  'description': 'só os loucos sabem (:',\n",
       "  'favourites_count': 1,\n",
       "  'follow_request_sent': None,\n",
       "  'followers_count': 102,\n",
       "  'following': None,\n",
       "  'friends_count': 73,\n",
       "  'geo_enabled': False,\n",
       "  'id': 53507833,\n",
       "  'lang': 'en',\n",
       "  'listed_count': 0,\n",
       "  'location': '',\n",
       "  'name': 'Beatriz Helena Cunha',\n",
       "  'notifications': None,\n",
       "  'profile_background_color': '081114',\n",
       "  'profile_background_image_url': 'http://a1.twimg.com/profile_background_images/133178546/biatwitter.jpg',\n",
       "  'profile_background_tile': True,\n",
       "  'profile_image_url': 'http://a2.twimg.com/profile_images/1036412454/OgAAADXK9q6kaxrvfwQTINH66RVLAH9YHb-veRTA4FaWb9KtbGGV_yKTGzmvzTfJidqAb5gK_mpspIE-MIvAASGH2CwAm1T1UIPQk0-HS8x_TV5kdnW30nch7ODk-1_normal.jpg',\n",
       "  'profile_link_color': 'eb55b6',\n",
       "  'profile_sidebar_border_color': '1c9dbd',\n",
       "  'profile_sidebar_fill_color': '768575',\n",
       "  'profile_text_color': '25b8c2',\n",
       "  'profile_use_background_image': True,\n",
       "  'protected': False,\n",
       "  'screen_name': 'Bia_cunha1',\n",
       "  'show_all_inline_media': False,\n",
       "  'statuses_count': 3504,\n",
       "  'time_zone': 'Brasilia',\n",
       "  'url': 'http://http://www.orkut.com.br/Main#Profile?uid=1433295880233078770',\n",
       "  'utc_offset': -10800,\n",
       "  'verified': False}}"
      ]
     },
     "execution_count": 3,
     "metadata": {},
     "output_type": "execute_result"
    }
   ],
   "source": [
    "db.twitter.find_one()"
   ]
  },
  {
   "cell_type": "markdown",
   "metadata": {},
   "source": [
    "Documentos em JSON podem conter campos de múltiplos tipos. Um campo pode, inclusive, armazenar um outro documento, como é o caso do campo <i>user</i> acima. "
   ]
  },
  {
   "cell_type": "markdown",
   "metadata": {},
   "source": [
    "### Consultas Simples"
   ]
  },
  {
   "cell_type": "markdown",
   "metadata": {},
   "source": [
    "O comando <b>find_one()</b> nos retorna o primeiro documento que atende aos critérios especificados entre parênteses (quando nenhum critério é especificado, estamos nos referindo a todos os documentos da coleção). \n",
    "<p>\n",
    "Especificamos um critério de busca informando o campo que deve ser pesquisado e o resultado esperado na forma de um documento em JSON. Quando o campo que desejamos buscar é parte de um documento inserido em outro campo, usamos a notação de ponto (<b>.</b>) para que o Mongo interprete a hierarquia.\n",
    "<p>\n",
    "Se quisermos encontrar o primeiro documento cujo campo <i>time_zone</i> (que está dentro do campo <i>user</i>) está preenchido com \"Buenos Aires\", podemos usar a seguinte notação:"
   ]
  },
  {
   "cell_type": "code",
   "execution_count": 20,
   "metadata": {
    "collapsed": false,
    "scrolled": true
   },
   "outputs": [
    {
     "data": {
      "text/plain": [
       "{'_id': ObjectId('59aa384e4e9a63377035619a'),\n",
       " 'contributors': None,\n",
       " 'coordinates': None,\n",
       " 'created_at': 'Thu Sep 02 18:11:35 +0000 2010',\n",
       " 'entities': {'hashtags': [],\n",
       "  'urls': [{'expanded_url': None,\n",
       "    'indices': [112, 132],\n",
       "    'url': 'http://4ms.me/9qKO6O'}],\n",
       "  'user_mentions': [{'id': 30059216,\n",
       "    'indices': [3, 14],\n",
       "    'name': 'Sol ',\n",
       "    'screen_name': 'SolTBieber'}]},\n",
       " 'favorited': False,\n",
       " 'geo': None,\n",
       " 'id': 22819409400,\n",
       " 'in_reply_to_screen_name': None,\n",
       " 'in_reply_to_status_id': None,\n",
       " 'in_reply_to_user_id': None,\n",
       " 'place': None,\n",
       " 'retweet_count': None,\n",
       " 'retweeted': False,\n",
       " 'retweeted_status': {'contributors': None,\n",
       "  'coordinates': None,\n",
       "  'created_at': 'Thu Sep 02 18:10:51 +0000 2010',\n",
       "  'entities': {'hashtags': [],\n",
       "   'urls': [{'expanded_url': None,\n",
       "     'indices': [96, 116],\n",
       "     'url': 'http://4ms.me/9qKO6O'}],\n",
       "   'user_mentions': []},\n",
       "  'favorited': False,\n",
       "  'geo': None,\n",
       "  'id': 22819362741,\n",
       "  'in_reply_to_screen_name': None,\n",
       "  'in_reply_to_status_id': None,\n",
       "  'in_reply_to_user_id': None,\n",
       "  'place': None,\n",
       "  'retweet_count': None,\n",
       "  'retweeted': False,\n",
       "  'source': '<a href=\"http://formspring.me\" rel=\"nofollow\">Formspring.me</a>',\n",
       "  'text': 'tienes hermanos(as)? — No, me hubiese gustado tener un hermano varon 2 años mas grande qe yo :S http://4ms.me/9qKO6O',\n",
       "  'truncated': False,\n",
       "  'user': {'contributors_enabled': False,\n",
       "   'created_at': 'Thu Apr 09 20:24:28 +0000 2009',\n",
       "   'description': 'JUSTIN BIEBER♥: follow me from 6/12/O9, Retweet me from 15/3/1O, him Read my tweet on 3/4/1O & Im The first to make RT on 3O/4/1O & 8/5/1O  ;; NO HATERS!',\n",
       "   'favourites_count': 1973,\n",
       "   'follow_request_sent': None,\n",
       "   'followers_count': 3775,\n",
       "   'following': None,\n",
       "   'friends_count': 3764,\n",
       "   'geo_enabled': False,\n",
       "   'id': 30059216,\n",
       "   'lang': 'es',\n",
       "   'listed_count': 536,\n",
       "   'location': 'ARG',\n",
       "   'name': 'Sol ',\n",
       "   'notifications': None,\n",
       "   'profile_background_color': '000000',\n",
       "   'profile_background_image_url': 'http://a3.twimg.com/profile_background_images/143057141/Sol_Justin.JPG',\n",
       "   'profile_background_tile': False,\n",
       "   'profile_image_url': 'http://a2.twimg.com/profile_images/1113935986/uuui_normal.jpg',\n",
       "   'profile_link_color': '714d8f',\n",
       "   'profile_sidebar_border_color': '000000',\n",
       "   'profile_sidebar_fill_color': '',\n",
       "   'profile_text_color': 'bc9ae3',\n",
       "   'profile_use_background_image': True,\n",
       "   'protected': False,\n",
       "   'screen_name': 'SolTBieber',\n",
       "   'show_all_inline_media': False,\n",
       "   'statuses_count': 39387,\n",
       "   'time_zone': 'Central Time (US & Canada)',\n",
       "   'url': 'http://www.facebook.com/SolTBieber',\n",
       "   'utc_offset': -21600,\n",
       "   'verified': False}},\n",
       " 'source': 'web',\n",
       " 'text': 'RT @SolTBieber: tienes hermanos(as)? — No, me hubiese gustado tener un hermano varon 2 años mas grande qe yo :S http://4ms.me/9qKO6O',\n",
       " 'truncated': False,\n",
       " 'user': {'contributors_enabled': False,\n",
       "  'created_at': 'Mon May 24 20:41:38 +0000 2010',\n",
       "  'description': 'JB I love u so much♥. Thanks u 4 making me smile♥ Pattie tweet me on 10 July ♥ @LittlecBeadles followed me on 30 July, ♥ @IslandRecords follow me on 31 August. ',\n",
       "  'favourites_count': 24,\n",
       "  'follow_request_sent': None,\n",
       "  'followers_count': 481,\n",
       "  'following': None,\n",
       "  'friends_count': 527,\n",
       "  'geo_enabled': False,\n",
       "  'id': 147699557,\n",
       "  'lang': 'es',\n",
       "  'listed_count': 188,\n",
       "  'location': 'World Bieber ♥',\n",
       "  'name': 'Sofia ♥',\n",
       "  'notifications': None,\n",
       "  'profile_background_color': 'ffffff',\n",
       "  'profile_background_image_url': 'http://a3.twimg.com/profile_background_images/129842607/catsFONDOJUS2.jpg',\n",
       "  'profile_background_tile': True,\n",
       "  'profile_image_url': 'http://a0.twimg.com/profile_images/1112832764/cats20_normal.jpg',\n",
       "  'profile_link_color': 'a67eba',\n",
       "  'profile_sidebar_border_color': 'ffffff',\n",
       "  'profile_sidebar_fill_color': 'edebfa',\n",
       "  'profile_text_color': 'd5c5eb',\n",
       "  'profile_use_background_image': True,\n",
       "  'protected': False,\n",
       "  'screen_name': 'Justiniloveeyou',\n",
       "  'show_all_inline_media': False,\n",
       "  'statuses_count': 4792,\n",
       "  'time_zone': 'Buenos Aires',\n",
       "  'url': 'http://www.fotolog.com/jussstinbieberr',\n",
       "  'utc_offset': -10800,\n",
       "  'verified': False}}"
      ]
     },
     "execution_count": 20,
     "metadata": {},
     "output_type": "execute_result"
    }
   ],
   "source": [
    "db.twitter.find_one({\"user.time_zone\": \"Buenos Aires\"})"
   ]
  },
  {
   "cell_type": "markdown",
   "metadata": {},
   "source": [
    "### Consultas de Múltiplos Campos"
   ]
  },
  {
   "cell_type": "markdown",
   "metadata": {},
   "source": [
    "Quando queremos consultar todos os documentos que obedecem aos nosso critérios de busca utilizamos o comando <b>find()</b>.\n",
    "<p>\n",
    "É possível adicionar mútiplos critérios de busca nos comandos find_one() e find().\n",
    "<p>\n",
    "Por vezes, ao invés de visualizar o conteúdo dos documentos, queremos apenas saber quantos deles respondem à nossa consulta. O comando <b>count()</b> é útil nessas situações.\n",
    "<p>\n",
    "Ao invés de buscar apenas por valores exatos, nossas consultas podem utilizar <b>operadores</b> para avaliar a correspondência de resultados. Operadores são precedidos pela notação <b>\\$</b>. Exemplos de operadores:\n",
    "<p>\n",
    "<b>\\$gt</b>: greater than  \n",
    "<b>\\$gte</b>: greater than or equal to  \n",
    "<b>\\$lt</b>: less than  \n",
    "<b>\\$lte</b>: less than or equal to  \n",
    "<b>\\$ne</b>: not equal to\n",
    "<p>\n",
    "\n",
    "Se quisermos encontrar o número de tweets com time_zone \"Buenos Aires\" e cujo usuário tem mais de 1000 seguidores, podemos usar a seguinte notação:"
   ]
  },
  {
   "cell_type": "code",
   "execution_count": 24,
   "metadata": {
    "collapsed": false,
    "scrolled": true
   },
   "outputs": [
    {
     "data": {
      "text/plain": [
       "73"
      ]
     },
     "execution_count": 24,
     "metadata": {},
     "output_type": "execute_result"
    }
   ],
   "source": [
    "db.twitter.find({\"user.time_zone\": \"Buenos Aires\",\"user.followers_count\": {\"$gt\": 1000}}).count()"
   ]
  },
  {
   "cell_type": "markdown",
   "metadata": {},
   "source": [
    "### Consultas com Projeções"
   ]
  },
  {
   "cell_type": "markdown",
   "metadata": {},
   "source": [
    "Também é comum que queiramos exibir, ao invés do documento completo, o conteúdo de apenas alguns campos dos documentos que respodem às nossas consultas.\n",
    "<p>\n",
    "Além da <i>query</i>, o comando find() pode receber um argumento que indique a forma como os documentos devem ser exibidos, o <i><b>projection</b></i>. \n",
    "```\n",
    "find(query, projection)\n",
    "```\n",
    "\n",
    "O projection deve indicar o campo seguido de 1, caso queiramos que ele seja exibido, ou de 0, caso queiramos que ele não seja exibido.\n",
    "<p>\n",
    "\n",
    "```\n",
    "{\"field_1\": 1, \"field_2\": 0}\n",
    "```\n",
    "<p>\n",
    "Quando especificamos um <i>projection</i>, o id do documento (em Mongo DB todos os documentos possuem um id) é tido 1 (true) e todos os outros campos como 0 (false) por padrão. Se quisermos que o id não seja exibido, precisamos setá-lo para 0. Quanto aos demais campos, precisaremos listar apenas aqueles que queremos que apareçam em nossos resultados.\n",
    "<p>\n",
    "Se quisermos encontrar os nomes dos autores dos tweets com time_zone \"Buenos Aires\" com mais de 10000 seguidores, podemos usar a seguinte notação:"
   ]
  },
  {
   "cell_type": "code",
   "execution_count": 31,
   "metadata": {
    "collapsed": false
   },
   "outputs": [
    {
     "name": "stdout",
     "output_type": "stream",
     "text": [
      "{'user': {'name': 'Stanley ✔'}}\n",
      "{'user': {'name': 'Fabio Oliveira'}}\n",
      "{'user': {'name': 'Soledad Fandiño'}}\n"
     ]
    }
   ],
   "source": [
    "consult = db.twitter.find({\"user.time_zone\": \"Buenos Aires\",\"user.followers_count\": {\"$gt\": 10000}},{\"_id\": 0, \"user.name\": 1})\n",
    "\n",
    "for doc in consult:\n",
    "    print(doc)"
   ]
  },
  {
   "cell_type": "markdown",
   "metadata": {},
   "source": [
    "Precisamos iterar sobre o resultado do comando find() para exibir todos os documentos."
   ]
  },
  {
   "cell_type": "markdown",
   "metadata": {},
   "source": [
    "### Outros Operadores"
   ]
  },
  {
   "cell_type": "markdown",
   "metadata": {},
   "source": [
    "Outros operadores úteis à elaboração de <i>queries</i>:\n",
    "\n",
    "#### \\$exists:  \n",
    "Como vimos, o Mongo DB é livre de <i>schema</i>, isto é, os documentos armazenados no banco podem ter estruturas distintas e nem todos os campos precisam estar presentes em todos os documentos. Utilizamos o operador \\$exists quando queremos consultar os documentos que possuem ou não um determinado campo. Ao utilizarmos \"\\$exists: 1\" em um campo, receberemos todos os documentos em que esse campo possui algum valor. Ao utilizarmos \"\\$exists: 0\", receberemos todos os documentos que não possuem esse campo ou em que esse campo não possui valor. \n",
    "\n",
    "```\n",
    "{\"field_1\": {$exists: 1}, \"field_2\": {$exists: 0}}\n",
    "```\n",
    "\n",
    "#### \\$in e \\$all: \n",
    "\\$in e \\$all são operadores úteis às consultas em campos cujos valores são preenchidos por <i>arrays</i>, como o campo \"entities.hashtags\" em nossos tweets.\n",
    "Ao utilizarmos \\$in, receberemos todos os documentos que possuam algum dos valores que passarmos. Ao utilizarmos \\$all, receberemos apenas os documentos que possuam todos os valores que passarmos.\n",
    "```\n",
    "{\"field_1\": {$in: []}, \"field_2\": {$all: []}}\n",
    "```\n",
    "\n",
    "#### \\$regex: \n",
    "As consultas aos bancos Mongo DB também suportam o operador \\$regex, que permite a combinação de caracteres especiais para produzir uma série possível de resultados que atendem a busca, segundo uma [sintaxe própria](https://github.com/zeeshanu/learn-regex).\n",
    "```\n",
    "{\"field_1\": {$regex: [regular_expression]}}\n",
    "```"
   ]
  },
  {
   "cell_type": "code",
   "execution_count": null,
   "metadata": {
    "collapsed": true
   },
   "outputs": [],
   "source": []
  }
 ],
 "metadata": {
  "kernelspec": {
   "display_name": "Python 3",
   "language": "python",
   "name": "python3"
  },
  "language_info": {
   "codemirror_mode": {
    "name": "ipython",
    "version": 3
   },
   "file_extension": ".py",
   "mimetype": "text/x-python",
   "name": "python",
   "nbconvert_exporter": "python",
   "pygments_lexer": "ipython3",
   "version": "3.6.0"
  }
 },
 "nbformat": 4,
 "nbformat_minor": 2
}
