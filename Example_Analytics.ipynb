{
 "cells": [
  {
   "cell_type": "markdown",
   "metadata": {},
   "source": [
    "# Analizando dados de um banco Mongo DB com o PyMongo"
   ]
  },
  {
   "cell_type": "markdown",
   "metadata": {
    "collapsed": true
   },
   "source": [
    "Utilizaremos os dados do arquivo 'twitter.json'.\n",
    "Os dados foram inseridos no Mongo DB através do shell do Mongo. Utilizou-se o seguinte comando:\n",
    "\n",
    "```shell\n",
    "mongoimport --host localhost --port 27017 --collection twitter --db examples --file twitter.json\n",
    "```\n",
    "\n",
    "O arquivo consiste numa coleção de documentos em json, cada um com informações sobre um tweet coletado através da API do twitter. "
   ]
  },
  {
   "cell_type": "code",
   "execution_count": 2,
   "metadata": {
    "collapsed": true
   },
   "outputs": [],
   "source": [
    "from pprint import pprint\n",
    "from pymongo import MongoClient\n",
    "\n",
    "client = MongoClient('localhost:27017') ## 27017 é a porta padrão para a instalação do Mongo DB\n",
    "db = client.examples"
   ]
  },
  {
   "cell_type": "markdown",
   "metadata": {},
   "source": [
    "O primeiro documento do arquivo possui a seguinte estrutura:"
   ]
  },
  {
   "cell_type": "code",
   "execution_count": 3,
   "metadata": {
    "collapsed": false
   },
   "outputs": [
    {
     "data": {
      "text/plain": [
       "{'_id': ObjectId('59aa384e4e9a63377035612c'),\n",
       " 'contributors': None,\n",
       " 'coordinates': None,\n",
       " 'created_at': 'Thu Sep 02 18:11:23 +0000 2010',\n",
       " 'entities': {'hashtags': [], 'urls': [], 'user_mentions': []},\n",
       " 'favorited': False,\n",
       " 'geo': None,\n",
       " 'id': 22819396900,\n",
       " 'in_reply_to_screen_name': None,\n",
       " 'in_reply_to_status_id': None,\n",
       " 'in_reply_to_user_id': None,\n",
       " 'place': None,\n",
       " 'retweet_count': None,\n",
       " 'retweeted': False,\n",
       " 'source': 'web',\n",
       " 'text': 'eu preciso de terminar de fazer a minha tabela, está muito foda **',\n",
       " 'truncated': False,\n",
       " 'user': {'contributors_enabled': False,\n",
       "  'created_at': 'Fri Jul 03 21:44:05 +0000 2009',\n",
       "  'description': 'só os loucos sabem (:',\n",
       "  'favourites_count': 1,\n",
       "  'follow_request_sent': None,\n",
       "  'followers_count': 102,\n",
       "  'following': None,\n",
       "  'friends_count': 73,\n",
       "  'geo_enabled': False,\n",
       "  'id': 53507833,\n",
       "  'lang': 'en',\n",
       "  'listed_count': 0,\n",
       "  'location': '',\n",
       "  'name': 'Beatriz Helena Cunha',\n",
       "  'notifications': None,\n",
       "  'profile_background_color': '081114',\n",
       "  'profile_background_image_url': 'http://a1.twimg.com/profile_background_images/133178546/biatwitter.jpg',\n",
       "  'profile_background_tile': True,\n",
       "  'profile_image_url': 'http://a2.twimg.com/profile_images/1036412454/OgAAADXK9q6kaxrvfwQTINH66RVLAH9YHb-veRTA4FaWb9KtbGGV_yKTGzmvzTfJidqAb5gK_mpspIE-MIvAASGH2CwAm1T1UIPQk0-HS8x_TV5kdnW30nch7ODk-1_normal.jpg',\n",
       "  'profile_link_color': 'eb55b6',\n",
       "  'profile_sidebar_border_color': '1c9dbd',\n",
       "  'profile_sidebar_fill_color': '768575',\n",
       "  'profile_text_color': '25b8c2',\n",
       "  'profile_use_background_image': True,\n",
       "  'protected': False,\n",
       "  'screen_name': 'Bia_cunha1',\n",
       "  'show_all_inline_media': False,\n",
       "  'statuses_count': 3504,\n",
       "  'time_zone': 'Brasilia',\n",
       "  'url': 'http://http://www.orkut.com.br/Main#Profile?uid=1433295880233078770',\n",
       "  'utc_offset': -10800,\n",
       "  'verified': False}}"
      ]
     },
     "execution_count": 3,
     "metadata": {},
     "output_type": "execute_result"
    }
   ],
   "source": [
    "db.twitter.find_one()"
   ]
  },
  {
   "cell_type": "markdown",
   "metadata": {},
   "source": [
    "### Construindo um <i>pipeline</i> com o agregation()"
   ]
  },
  {
   "cell_type": "markdown",
   "metadata": {},
   "source": [
    "O <b>agregation()</b> recebe como parâmetros uma série de operações de consulta e outros tipos sobre os documentos de uma coleção, de modo que o resultado de uma forneça a entrada da seguinte (formando um <i>pipeline</i>), nos permitindo responder perguntas mais complexas a respeito dos nossos conjuntos de dados."
   ]
  },
  {
   "cell_type": "markdown",
   "metadata": {},
   "source": [
    "### \\$project"
   ]
  },
  {
   "cell_type": "markdown",
   "metadata": {},
   "source": []
  },
  {
   "cell_type": "code",
   "execution_count": 9,
   "metadata": {
    "collapsed": false
   },
   "outputs": [
    {
     "name": "stdout",
     "output_type": "stream",
     "text": [
      "{'_id': ObjectId('59aa384e4e9a63377035612c'), 'name': 'Beatriz Helena Cunha'}\n"
     ]
    }
   ],
   "source": [
    "pipeline=[{\"$project\":{\"name\":\"$user.name\"}}]\n",
    "agg = db.twitter.aggregate(pipeline)\n",
    "for doc in agg:\n",
    "    print(doc)\n",
    "    break"
   ]
  },
  {
   "cell_type": "markdown",
   "metadata": {},
   "source": [
    "### \\$match"
   ]
  },
  {
   "cell_type": "code",
   "execution_count": null,
   "metadata": {
    "collapsed": true
   },
   "outputs": [],
   "source": []
  },
  {
   "cell_type": "code",
   "execution_count": 10,
   "metadata": {
    "collapsed": false
   },
   "outputs": [
    {
     "name": "stdout",
     "output_type": "stream",
     "text": [
      "{'_id': ObjectId('59aa384e4e9a6337703561a3'), 'name': 'Portal Guiame', 'followers': 15159}\n"
     ]
    }
   ],
   "source": [
    "pipeline=[{\"$project\":{\"name\":\"$user.name\", \"followers\":\"$user.followers_count\"}},\n",
    "          {\"$match\": {\"followers\": {\"$gt\":10000}}}]\n",
    "agg = db.twitter.aggregate(pipeline)\n",
    "for doc in agg:\n",
    "    print(doc)\n",
    "    break"
   ]
  },
  {
   "cell_type": "markdown",
   "metadata": {},
   "source": [
    "### \\$group"
   ]
  },
  {
   "cell_type": "code",
   "execution_count": null,
   "metadata": {
    "collapsed": true
   },
   "outputs": [],
   "source": []
  },
  {
   "cell_type": "code",
   "execution_count": 21,
   "metadata": {
    "collapsed": false,
    "scrolled": true
   },
   "outputs": [
    {
     "name": "stdout",
     "output_type": "stream",
     "text": [
      "{'_id': 'Faze ™', 'tweets': 1}\n"
     ]
    }
   ],
   "source": [
    "pipeline=[{\"$project\":{\"name\":\"$user.name\", \"followers\":\"$user.followers_count\"}},\n",
    "          {\"$match\": {\"followers\": {\"$gt\":10000}}},\n",
    "          {\"$group\": {\"_id\":\"$name\", \"tweets\": {\"$sum\":1}}}]\n",
    "agg = db.twitter.aggregate(pipeline)\n",
    "for doc in agg:\n",
    "    print(doc)\n",
    "    break"
   ]
  },
  {
   "cell_type": "markdown",
   "metadata": {},
   "source": [
    "### \\$sort"
   ]
  },
  {
   "cell_type": "code",
   "execution_count": null,
   "metadata": {
    "collapsed": true
   },
   "outputs": [],
   "source": []
  },
  {
   "cell_type": "code",
   "execution_count": 15,
   "metadata": {
    "collapsed": false
   },
   "outputs": [
    {
     "name": "stdout",
     "output_type": "stream",
     "text": [
      "{'_id': 'gilliarde_1993', 'tweets': 5}\n"
     ]
    }
   ],
   "source": [
    "pipeline=[{\"$project\":{\"name\":\"$user.name\", \"followers\":\"$user.followers_count\"}},\n",
    "          {\"$match\": {\"followers\": {\"$gt\":10000}}},\n",
    "          {\"$group\": {\"_id\":\"$name\", \"tweets\": {\"$sum\":1}}},\n",
    "          {\"$sort\": {\"tweets\": -1}}]\n",
    "agg = db.twitter.aggregate(pipeline)\n",
    "for doc in agg:\n",
    "    print(doc)\n",
    "    break"
   ]
  },
  {
   "cell_type": "markdown",
   "metadata": {},
   "source": [
    "### \\$limit"
   ]
  },
  {
   "cell_type": "code",
   "execution_count": null,
   "metadata": {
    "collapsed": true
   },
   "outputs": [],
   "source": []
  },
  {
   "cell_type": "code",
   "execution_count": 18,
   "metadata": {
    "collapsed": false
   },
   "outputs": [
    {
     "name": "stdout",
     "output_type": "stream",
     "text": [
      "{'_id': 'gilliarde_1993', 'tweets': 5}\n"
     ]
    }
   ],
   "source": [
    "pipeline=[{\"$project\":{\"name\":\"$user.name\", \"followers\":\"$user.followers_count\"}},\n",
    "          {\"$match\": {\"followers\": {\"$gt\":10000}}},\n",
    "          {\"$group\": {\"_id\":\"$name\", \"tweets\": {\"$sum\":1}}},\n",
    "          {\"$sort\": {\"tweets\": -1}},\n",
    "          {\"$limit\": 1}]\n",
    "agg = db.twitter.aggregate(pipeline)\n",
    "for doc in agg:\n",
    "    print(doc)"
   ]
  },
  {
   "cell_type": "markdown",
   "metadata": {},
   "source": [
    "### \\$limit"
   ]
  },
  {
   "cell_type": "code",
   "execution_count": null,
   "metadata": {
    "collapsed": true
   },
   "outputs": [],
   "source": []
  },
  {
   "cell_type": "code",
   "execution_count": 20,
   "metadata": {
    "collapsed": false
   },
   "outputs": [
    {
     "name": "stdout",
     "output_type": "stream",
     "text": [
      "{'_id': 'gilliarde_1993', 'tweets': 5}\n",
      "{'_id': '♥ C V ι X х X e N™ ', 'tweets': 4}\n"
     ]
    }
   ],
   "source": [
    "pipeline=[{\"$project\":{\"name\":\"$user.name\", \"followers\":\"$user.followers_count\"}},\n",
    "          {\"$match\": {\"followers\": {\"$gt\":10000}}},\n",
    "          {\"$group\": {\"_id\":\"$name\", \"tweets\": {\"$sum\":1}}},\n",
    "          {\"$sort\": {\"tweets\": -1}},\n",
    "          {\"$limit\": 3},\n",
    "          {\"$skip\": 1}]\n",
    "agg = db.twitter.aggregate(pipeline)\n",
    "for doc in agg:\n",
    "    print(doc)"
   ]
  },
  {
   "cell_type": "markdown",
   "metadata": {},
   "source": [
    "### \\$unwind"
   ]
  },
  {
   "cell_type": "code",
   "execution_count": null,
   "metadata": {
    "collapsed": true
   },
   "outputs": [],
   "source": []
  },
  {
   "cell_type": "code",
   "execution_count": 34,
   "metadata": {
    "collapsed": false
   },
   "outputs": [
    {
     "name": "stdout",
     "output_type": "stream",
     "text": [
      "{'_id': {'text': '4ji', 'indices': [12, 16]}, 'count': 89}\n",
      "{'_id': {'text': 'nowplaying', 'indices': [0, 11]}, 'count': 57}\n",
      "{'_id': {'text': 'liesguystell', 'indices': [0, 13]}, 'count': 41}\n",
      "{'_id': {'text': 'np', 'indices': [0, 3]}, 'count': 35}\n",
      "{'_id': {'text': 'VouConfessarQue', 'indices': [21, 37]}, 'count': 31}\n",
      "{'_id': {'text': 'NowPlaying', 'indices': [0, 11]}, 'count': 19}\n",
      "{'_id': {'text': 'NP', 'indices': [0, 3]}, 'count': 13}\n",
      "{'_id': {'text': 'lastfm', 'indices': [16, 23]}, 'count': 13}\n",
      "{'_id': {'text': 'CoachPoppy', 'indices': [22, 33]}, 'count': 13}\n",
      "{'_id': {'text': 'ok', 'indices': [69, 72]}, 'count': 13}\n"
     ]
    }
   ],
   "source": [
    "pipeline=[{\"$unwind\": \"$entities.hashtags\"},\n",
    "          {\"$group\": {\"_id\":\"$entities.hashtags\", \"count\": {\"$sum\":1}}},\n",
    "          {\"$sort\": {\"count\": -1}},\n",
    "          {\"$limit\": 10}]\n",
    "agg = db.twitter.aggregate(pipeline)\n",
    "for doc in agg:\n",
    "    print(doc)"
   ]
  },
  {
   "cell_type": "code",
   "execution_count": null,
   "metadata": {
    "collapsed": true
   },
   "outputs": [],
   "source": []
  }
 ],
 "metadata": {
  "kernelspec": {
   "display_name": "Python 3",
   "language": "python",
   "name": "python3"
  },
  "language_info": {
   "codemirror_mode": {
    "name": "ipython",
    "version": 3
   },
   "file_extension": ".py",
   "mimetype": "text/x-python",
   "name": "python",
   "nbconvert_exporter": "python",
   "pygments_lexer": "ipython3",
   "version": "3.6.0"
  }
 },
 "nbformat": 4,
 "nbformat_minor": 2
}
