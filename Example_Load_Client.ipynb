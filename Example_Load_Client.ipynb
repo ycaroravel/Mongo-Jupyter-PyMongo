{
 "cells": [
  {
   "cell_type": "markdown",
   "metadata": {
    "collapsed": false
   },
   "source": [
    "# Carregando um Cliente Mongo DB com o PyMongo"
   ]
  },
  {
   "cell_type": "markdown",
   "metadata": {},
   "source": [
    "O comando pymongo.MongoClient() nos permite carregar um cliente Mongo DB.\n",
    "\n",
    "\n",
    "[IMPORTANTE] é necessário que o servidor Mongo esteja ativo. No Ubuntu, ele ser iniciado ao digitarmos o seguinte comando no terminal:\n",
    "\n",
    "```\n",
    "sudo service mongod start\n",
    "```"
   ]
  },
  {
   "cell_type": "code",
   "execution_count": null,
   "metadata": {
    "collapsed": true
   },
   "outputs": [],
   "source": [
    "from pprint import pprint\n",
    "from pymongo import MongoClient\n",
    "\n",
    "client = MongoClient('localhost:27017') ## 27017 é a porta padrão para a instalação do Mongo DB"
   ]
  },
  {
   "cell_type": "markdown",
   "metadata": {},
   "source": [
    "Para testar a comunicação com o servidor, iremos realizar uma operação de <b>inserção</b> na coleção <i>cities</i> da bse de dados <i>examples</i>. Caso não existam bases de dados e coleções com esses nomes, serão criadas ao submetermos os comandos."
   ]
  },
  {
   "cell_type": "code",
   "execution_count": 15,
   "metadata": {
    "collapsed": false
   },
   "outputs": [
    {
     "data": {
      "text/plain": [
       "<pymongo.results.InsertManyResult at 0x7f4e008cf870>"
      ]
     },
     "execution_count": 15,
     "metadata": {},
     "output_type": "execute_result"
    }
   ],
   "source": [
    "db = client.examples\n",
    "#db.cities.drop()\n",
    "db.cities.insert_many([{\"name\": \"Natal\"}, {\"name\": \"Parnamirim\"}, {\"name\": \"Mossoró\"}])"
   ]
  },
  {
   "cell_type": "markdown",
   "metadata": {},
   "source": [
    "Também é possível visualizar o conteúdo dos documentos presentes na coleção <i>cities</i>."
   ]
  },
  {
   "cell_type": "code",
   "execution_count": 16,
   "metadata": {
    "collapsed": false
   },
   "outputs": [
    {
     "name": "stdout",
     "output_type": "stream",
     "text": [
      "{'_id': ObjectId('59aa30e8e89f6f17f66c985b'), 'name': 'Natal'}\n",
      "{'_id': ObjectId('59aa30e8e89f6f17f66c985c'), 'name': 'Parnamirim'}\n",
      "{'_id': ObjectId('59aa30e8e89f6f17f66c985d'), 'name': 'Mossoró'}\n"
     ]
    }
   ],
   "source": [
    "for doc in db.cities.find():\n",
    "    pprint(doc)"
   ]
  },
  {
   "cell_type": "code",
   "execution_count": null,
   "metadata": {
    "collapsed": true
   },
   "outputs": [],
   "source": []
  }
 ],
 "metadata": {
  "kernelspec": {
   "display_name": "Python 3",
   "language": "python",
   "name": "python3"
  },
  "language_info": {
   "codemirror_mode": {
    "name": "ipython",
    "version": 3
   },
   "file_extension": ".py",
   "mimetype": "text/x-python",
   "name": "python",
   "nbconvert_exporter": "python",
   "pygments_lexer": "ipython3",
   "version": "3.6.0"
  }
 },
 "nbformat": 4,
 "nbformat_minor": 2
}
