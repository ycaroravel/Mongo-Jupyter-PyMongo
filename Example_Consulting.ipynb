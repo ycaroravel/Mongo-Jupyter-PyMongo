{
 "cells": [
  {
   "cell_type": "markdown",
   "metadata": {},
   "source": [
    "# Consultas a um banco Mongo DB com o PyMongo"
   ]
  },
  {
   "cell_type": "markdown",
   "metadata": {},
   "source": [
    "Utilizaremos os dados do arquivo 'twitter.json'.\n",
    "Os dados foram inseridos no Mongo DB através do shell do Mongo. Utilizou-se o seguinte comando:\n",
    "\n",
    "```shell\n",
    "mongoimport --host localhost --port 27017 --collection twitter --db examples --file twitter.json\n",
    "```\n",
    "\n",
    "O arquivo consiste numa coleção de documentos em json, cada um com informações sobre um tweet coletado através da API do twitter. "
   ]
  },
  {
   "cell_type": "code",
   "execution_count": 5,
   "metadata": {
    "collapsed": true
   },
   "outputs": [],
   "source": [
    "from pprint import pprint\n",
    "from pymongo import MongoClient\n",
    "\n",
    "client = MongoClient('localhost:27017') ## 27017 é a porta padrão para a instalação do Mongo DB\n",
    "db = client.examples"
   ]
  },
  {
   "cell_type": "markdown",
   "metadata": {},
   "source": [
    "O primeiro documento do arquivo possui a seguinte estrutura:"
   ]
  },
  {
   "cell_type": "code",
   "execution_count": 6,
   "metadata": {
    "collapsed": false,
    "scrolled": true
   },
   "outputs": [
    {
     "data": {
      "text/plain": [
       "{'_id': ObjectId('59aa384e4e9a63377035612c'),\n",
       " 'contributors': None,\n",
       " 'coordinates': None,\n",
       " 'created_at': 'Thu Sep 02 18:11:23 +0000 2010',\n",
       " 'entities': {'hashtags': [], 'urls': [], 'user_mentions': []},\n",
       " 'favorited': False,\n",
       " 'geo': None,\n",
       " 'id': 22819396900,\n",
       " 'in_reply_to_screen_name': None,\n",
       " 'in_reply_to_status_id': None,\n",
       " 'in_reply_to_user_id': None,\n",
       " 'place': None,\n",
       " 'retweet_count': None,\n",
       " 'retweeted': False,\n",
       " 'source': 'web',\n",
       " 'text': 'eu preciso de terminar de fazer a minha tabela, está muito foda **',\n",
       " 'truncated': False,\n",
       " 'user': {'contributors_enabled': False,\n",
       "  'created_at': 'Fri Jul 03 21:44:05 +0000 2009',\n",
       "  'description': 'só os loucos sabem (:',\n",
       "  'favourites_count': 1,\n",
       "  'follow_request_sent': None,\n",
       "  'followers_count': 102,\n",
       "  'following': None,\n",
       "  'friends_count': 73,\n",
       "  'geo_enabled': False,\n",
       "  'id': 53507833,\n",
       "  'lang': 'en',\n",
       "  'listed_count': 0,\n",
       "  'location': '',\n",
       "  'name': 'Beatriz Helena Cunha',\n",
       "  'notifications': None,\n",
       "  'profile_background_color': '081114',\n",
       "  'profile_background_image_url': 'http://a1.twimg.com/profile_background_images/133178546/biatwitter.jpg',\n",
       "  'profile_background_tile': True,\n",
       "  'profile_image_url': 'http://a2.twimg.com/profile_images/1036412454/OgAAADXK9q6kaxrvfwQTINH66RVLAH9YHb-veRTA4FaWb9KtbGGV_yKTGzmvzTfJidqAb5gK_mpspIE-MIvAASGH2CwAm1T1UIPQk0-HS8x_TV5kdnW30nch7ODk-1_normal.jpg',\n",
       "  'profile_link_color': 'eb55b6',\n",
       "  'profile_sidebar_border_color': '1c9dbd',\n",
       "  'profile_sidebar_fill_color': '768575',\n",
       "  'profile_text_color': '25b8c2',\n",
       "  'profile_use_background_image': True,\n",
       "  'protected': False,\n",
       "  'screen_name': 'Bia_cunha1',\n",
       "  'show_all_inline_media': False,\n",
       "  'statuses_count': 3504,\n",
       "  'time_zone': 'Brasilia',\n",
       "  'url': 'http://http://www.orkut.com.br/Main#Profile?uid=1433295880233078770',\n",
       "  'utc_offset': -10800,\n",
       "  'verified': False}}"
      ]
     },
     "execution_count": 6,
     "metadata": {},
     "output_type": "execute_result"
    }
   ],
   "source": [
    "db.twitter.find_one()"
   ]
  },
  {
   "cell_type": "markdown",
   "metadata": {},
   "source": [
    "O comando find_one() nos retorna o primeiro documento que atende aos critérios especificados entre parênteses (quando nenhum critério é especificado, estamos nos referindo a todos os documentos da coleção). "
   ]
  },
  {
   "cell_type": "code",
   "execution_count": 13,
   "metadata": {
    "collapsed": false,
    "scrolled": true
   },
   "outputs": [
    {
     "data": {
      "text/plain": [
       "{'_id': ObjectId('59aa384e4e9a63377035619a'),\n",
       " 'contributors': None,\n",
       " 'coordinates': None,\n",
       " 'created_at': 'Thu Sep 02 18:11:35 +0000 2010',\n",
       " 'entities': {'hashtags': [],\n",
       "  'urls': [{'expanded_url': None,\n",
       "    'indices': [112, 132],\n",
       "    'url': 'http://4ms.me/9qKO6O'}],\n",
       "  'user_mentions': [{'id': 30059216,\n",
       "    'indices': [3, 14],\n",
       "    'name': 'Sol ',\n",
       "    'screen_name': 'SolTBieber'}]},\n",
       " 'favorited': False,\n",
       " 'geo': None,\n",
       " 'id': 22819409400,\n",
       " 'in_reply_to_screen_name': None,\n",
       " 'in_reply_to_status_id': None,\n",
       " 'in_reply_to_user_id': None,\n",
       " 'place': None,\n",
       " 'retweet_count': None,\n",
       " 'retweeted': False,\n",
       " 'retweeted_status': {'contributors': None,\n",
       "  'coordinates': None,\n",
       "  'created_at': 'Thu Sep 02 18:10:51 +0000 2010',\n",
       "  'entities': {'hashtags': [],\n",
       "   'urls': [{'expanded_url': None,\n",
       "     'indices': [96, 116],\n",
       "     'url': 'http://4ms.me/9qKO6O'}],\n",
       "   'user_mentions': []},\n",
       "  'favorited': False,\n",
       "  'geo': None,\n",
       "  'id': 22819362741,\n",
       "  'in_reply_to_screen_name': None,\n",
       "  'in_reply_to_status_id': None,\n",
       "  'in_reply_to_user_id': None,\n",
       "  'place': None,\n",
       "  'retweet_count': None,\n",
       "  'retweeted': False,\n",
       "  'source': '<a href=\"http://formspring.me\" rel=\"nofollow\">Formspring.me</a>',\n",
       "  'text': 'tienes hermanos(as)? — No, me hubiese gustado tener un hermano varon 2 años mas grande qe yo :S http://4ms.me/9qKO6O',\n",
       "  'truncated': False,\n",
       "  'user': {'contributors_enabled': False,\n",
       "   'created_at': 'Thu Apr 09 20:24:28 +0000 2009',\n",
       "   'description': 'JUSTIN BIEBER♥: follow me from 6/12/O9, Retweet me from 15/3/1O, him Read my tweet on 3/4/1O & Im The first to make RT on 3O/4/1O & 8/5/1O  ;; NO HATERS!',\n",
       "   'favourites_count': 1973,\n",
       "   'follow_request_sent': None,\n",
       "   'followers_count': 3775,\n",
       "   'following': None,\n",
       "   'friends_count': 3764,\n",
       "   'geo_enabled': False,\n",
       "   'id': 30059216,\n",
       "   'lang': 'es',\n",
       "   'listed_count': 536,\n",
       "   'location': 'ARG',\n",
       "   'name': 'Sol ',\n",
       "   'notifications': None,\n",
       "   'profile_background_color': '000000',\n",
       "   'profile_background_image_url': 'http://a3.twimg.com/profile_background_images/143057141/Sol_Justin.JPG',\n",
       "   'profile_background_tile': False,\n",
       "   'profile_image_url': 'http://a2.twimg.com/profile_images/1113935986/uuui_normal.jpg',\n",
       "   'profile_link_color': '714d8f',\n",
       "   'profile_sidebar_border_color': '000000',\n",
       "   'profile_sidebar_fill_color': '',\n",
       "   'profile_text_color': 'bc9ae3',\n",
       "   'profile_use_background_image': True,\n",
       "   'protected': False,\n",
       "   'screen_name': 'SolTBieber',\n",
       "   'show_all_inline_media': False,\n",
       "   'statuses_count': 39387,\n",
       "   'time_zone': 'Central Time (US & Canada)',\n",
       "   'url': 'http://www.facebook.com/SolTBieber',\n",
       "   'utc_offset': -21600,\n",
       "   'verified': False}},\n",
       " 'source': 'web',\n",
       " 'text': 'RT @SolTBieber: tienes hermanos(as)? — No, me hubiese gustado tener un hermano varon 2 años mas grande qe yo :S http://4ms.me/9qKO6O',\n",
       " 'truncated': False,\n",
       " 'user': {'contributors_enabled': False,\n",
       "  'created_at': 'Mon May 24 20:41:38 +0000 2010',\n",
       "  'description': 'JB I love u so much♥. Thanks u 4 making me smile♥ Pattie tweet me on 10 July ♥ @LittlecBeadles followed me on 30 July, ♥ @IslandRecords follow me on 31 August. ',\n",
       "  'favourites_count': 24,\n",
       "  'follow_request_sent': None,\n",
       "  'followers_count': 481,\n",
       "  'following': None,\n",
       "  'friends_count': 527,\n",
       "  'geo_enabled': False,\n",
       "  'id': 147699557,\n",
       "  'lang': 'es',\n",
       "  'listed_count': 188,\n",
       "  'location': 'World Bieber ♥',\n",
       "  'name': 'Sofia ♥',\n",
       "  'notifications': None,\n",
       "  'profile_background_color': 'ffffff',\n",
       "  'profile_background_image_url': 'http://a3.twimg.com/profile_background_images/129842607/catsFONDOJUS2.jpg',\n",
       "  'profile_background_tile': True,\n",
       "  'profile_image_url': 'http://a0.twimg.com/profile_images/1112832764/cats20_normal.jpg',\n",
       "  'profile_link_color': 'a67eba',\n",
       "  'profile_sidebar_border_color': 'ffffff',\n",
       "  'profile_sidebar_fill_color': 'edebfa',\n",
       "  'profile_text_color': 'd5c5eb',\n",
       "  'profile_use_background_image': True,\n",
       "  'protected': False,\n",
       "  'screen_name': 'Justiniloveeyou',\n",
       "  'show_all_inline_media': False,\n",
       "  'statuses_count': 4792,\n",
       "  'time_zone': 'Buenos Aires',\n",
       "  'url': 'http://www.fotolog.com/jussstinbieberr',\n",
       "  'utc_offset': -10800,\n",
       "  'verified': False}}"
      ]
     },
     "execution_count": 13,
     "metadata": {},
     "output_type": "execute_result"
    }
   ],
   "source": [
    "db.twitter.find_one({\"user.time_zone\": \"Buenos Aires\"})"
   ]
  },
  {
   "cell_type": "markdown",
   "metadata": {},
   "source": [
    "### Consulta Simples"
   ]
  },
  {
   "cell_type": "code",
   "execution_count": null,
   "metadata": {
    "collapsed": true
   },
   "outputs": [],
   "source": []
  },
  {
   "cell_type": "markdown",
   "metadata": {},
   "source": [
    "### Múltiplas Consultas"
   ]
  },
  {
   "cell_type": "code",
   "execution_count": null,
   "metadata": {
    "collapsed": true
   },
   "outputs": [],
   "source": []
  },
  {
   "cell_type": "markdown",
   "metadata": {},
   "source": [
    "### Consultas com Projeções"
   ]
  },
  {
   "cell_type": "code",
   "execution_count": null,
   "metadata": {
    "collapsed": true
   },
   "outputs": [],
   "source": []
  },
  {
   "cell_type": "markdown",
   "metadata": {},
   "source": [
    "### Consultas de Intervalos"
   ]
  },
  {
   "cell_type": "code",
   "execution_count": null,
   "metadata": {
    "collapsed": true
   },
   "outputs": [],
   "source": []
  }
 ],
 "metadata": {
  "kernelspec": {
   "display_name": "Python 3",
   "language": "python",
   "name": "python3"
  },
  "language_info": {
   "codemirror_mode": {
    "name": "ipython",
    "version": 3
   },
   "file_extension": ".py",
   "mimetype": "text/x-python",
   "name": "python",
   "nbconvert_exporter": "python",
   "pygments_lexer": "ipython3",
   "version": "3.6.0"
  }
 },
 "nbformat": 4,
 "nbformat_minor": 2
}
